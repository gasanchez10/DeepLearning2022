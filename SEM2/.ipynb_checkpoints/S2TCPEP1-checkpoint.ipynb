{
 "cells": [
  {
   "cell_type": "markdown",
   "metadata": {},
   "source": [
    "\n",
    "## Redes neuronales usando keras: Implementación en contexto real usando keras\n",
    "\n",
    "\n",
    "## Actividad calificada por pares\n",
    "\n",
    "### Propósito \n",
    "\n",
    "En la semana 1, en el laboratorio \"Estimación de red neuronal con múltiples capas\" se propone una implementación manual de redes neuronales usando librerías básicas de python como lo son *pandas* y *numpy*. *Google* desarrolló un *API* para el aprendizaje automático cuyo nombre es *\"Keras\"*, esta es escrita e *python* y es utilizada para hacer implementaciones de redes neuronales simples.\n",
    "\n",
    "Así, en este *notebook* se pretende evaluar el uso de *keras* al aplicar una red neuronal en un contexto real. \n",
    "\n",
    "\n",
    "\n",
    "\n",
    "### Instrucciones generales\n",
    "\n",
    "1. Para desarrollar el notebook, lo deberán descargar a un repositorio (pueden escoger el repositorio de su preferencia) para que lo puedan trabajar grupalmente.\n",
    "\n",
    "2. Los procedimientos en el notebook deberán responderse en los espacios especificados para tal fin, debajo de cada uno de los puntos.\n",
    "\n",
    "3. Para que la actividad sea calificada, deberán subir únicamente este mismo archivo con la extensión \".ipynb\" a la actividad de \"entrega calificada por el personal\" correspondiente a este caso.\n",
    "\n",
    "4. El archivo que suban debe poder ejecutarse localmente cuando sea descargado por el tutor, asumiendo que la base de datos de la actividad ya ha sido importada en el correspondiente archivo separado por comas (.csv).\n",
    "\n",
    "### Criterios a evaluar\n",
    "\n",
    "\n",
    "Los criterios que se evaluarán son:\n",
    "\n",
    "Análisis preliminar de variables: Se presentan correlogramas, histogramas y estadísticas descriptivas de las variables de la base de datos y se hace un análisis coherente de cada uno de ellos. [30 puntos]\n",
    "\n",
    "Estimación de un modelo utilizando redes neuronales: Se estima el modelo usando una red neuronal, se evalúa en la muestra de test y se analizan correctamente los resultados y el proceidmiento realizado [30 puntos]\n",
    "\n",
    "Elección del mejor modelo: Se elige la mejor combinación de hiperparámetros de a cuerdo a los resultados obtenidos y justifica adecuadamente la selección. [40 puntos]\n",
    "\n",
    "\n",
    "#### Problema\n",
    "\n",
    "Un *manager* de un banco manifiesta preocupación porque los clientes están renunciando a las tarjetas de crédito. Este cuenta con los datos disponibles en \n",
    "https://www.kaggle.com/datasets/sakshigoyal7/credit-card-customers a cerca de 10000 clientes, si tiene productos activos o no (*\"Attrition flag\"*), en función de variables tales como edad, salario, estado civil, límite de tarjeta de crédito, categoría de tarjeta de crédito, etc.\n",
    "\n",
    "Ustedes deben proponer el algoritmo para hacer la clasificación de los clientes con una red neuronal.\n",
    "\n",
    "Finalmente, para resolver los puntos de esta actividad deberán tener en cuenta únicamente las variables continuas (se deben eliminar las variables categóricas) y deberán eliminar las observaciones con datos faltantes.\n"
   ]
  },
  {
   "cell_type": "markdown",
   "metadata": {},
   "source": [
    "### Librerías a importar"
   ]
  },
  {
   "cell_type": "code",
   "execution_count": 1,
   "metadata": {},
   "outputs": [],
   "source": [
    "import numpy as np\n",
    "import pandas as pd\n",
    "import matplotlib.pyplot as plt\n",
    "from sklearn.model_selection import train_test_split\n",
    "from math import exp"
   ]
  },
  {
   "cell_type": "markdown",
   "metadata": {},
   "source": [
    "### 1. Análisis preliminar de variables (30 puntos)\n",
    "\n",
    "Realicen un análisis preliminar de los predictores y de la variable de respuesta (correlogramas, histogramas y estadísticas descriptivas)."
   ]
  },
  {
   "cell_type": "code",
   "execution_count": 2,
   "metadata": {},
   "outputs": [],
   "source": [
    "# Utilicen este espacio para escribir los códigos del procedimiento del punto 1 ####"
   ]
  },
  {
   "cell_type": "markdown",
   "metadata": {},
   "source": [
    "(Utilicen este espacio para describir su procedimiento y escribir su análisis y conclusiones sobre el punto 1)"
   ]
  },
  {
   "cell_type": "markdown",
   "metadata": {},
   "source": [
    "### 2. Estimación del modelo usando una red neuronal con keras\n",
    "\n",
    "Estimen un modelo predictivo usando la muestra de entrenamiento y evalúen su desempeño en test con hiperparámetros de su selección."
   ]
  },
  {
   "cell_type": "code",
   "execution_count": 4,
   "metadata": {},
   "outputs": [],
   "source": [
    "#### Utilicen este espacio para escribir los códigos del procedimiento del punto 2 ####"
   ]
  },
  {
   "cell_type": "markdown",
   "metadata": {},
   "source": [
    "(Utilicen este espacio para describir su procedimiento y escribir su análisis y conclusiones sobre el punto 2)"
   ]
  },
  {
   "cell_type": "markdown",
   "metadata": {},
   "source": [
    "### 3. Elección del mejor modelo\n",
    "\n",
    "Ahora construyan una función que reciba por parámetro una lista de número de capas a utilizar,  números de neuronas por capa, así como funciones de activación a utilizar.\n",
    "\n",
    "Dicha función debe entrenar el modelo con los datos de entrenamiento, evaluar con los datos de prueba para cada una de las combinaciones de hiperparámetros y encontrar cuál es la mejor combinación de hiperprámetros.  \n",
    "\n",
    "Una vez hecho este procedimiento respondan a la siguiente pregunta:\n",
    " \n",
    "¿Cómo argumenta que esta sea la selección óptima de hiperparámetros?"
   ]
  },
  {
   "cell_type": "code",
   "execution_count": 4,
   "metadata": {},
   "outputs": [],
   "source": [
    "#### Utilicen este espacio para escribir los códigos del procedimiento del punto 3 ####"
   ]
  },
  {
   "cell_type": "markdown",
   "metadata": {},
   "source": [
    "(Utilicen este espacio para describir su procedimiento y escribir su análisis y conclusiones sobre el punto 3)"
   ]
  }
 ],
 "metadata": {
  "kernelspec": {
   "display_name": "Python 3",
   "language": "python",
   "name": "python3"
  },
  "language_info": {
   "codemirror_mode": {
    "name": "ipython",
    "version": 3
   },
   "file_extension": ".py",
   "mimetype": "text/x-python",
   "name": "python",
   "nbconvert_exporter": "python",
   "pygments_lexer": "ipython3",
   "version": "3.8.8"
  }
 },
 "nbformat": 4,
 "nbformat_minor": 4
}
