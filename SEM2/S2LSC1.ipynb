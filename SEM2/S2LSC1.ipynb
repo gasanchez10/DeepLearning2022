{
 "cells": [
  {
   "cell_type": "markdown",
   "metadata": {},
   "source": [
    "# Introducción al Deep Learning\n",
    "## Redes neuronales con Keras: Una primera aproximación\n",
    "\n",
    "### Propósito\n",
    "\n",
    "Por medio de este laboratorio, se pretende hacer una introducción al uso de Keras y TensorFlow, entrenando una red neuronal, evaluando su desempeño y visualizando los resultados.\n",
    "\n",
    "### Instrucciones generales\n",
    "\n",
    "1. Para realizar la actividad solo siga las indicaciones asociadas a cada celda del notebook. Sin embargo, siéntase libre de modificar el archivo editando las celdas, lo que le permitirá afianzar su comprensión sobre las distintas funcionalidades de código.  \n",
    "\n",
    "2. Recuerde que para esta actividad NO necesita realizar ningún tipo de entrega.\n",
    "\n",
    "### Librerías a importar\n",
    "\n",
    "A continuación se muestran los comandos a ejecutar para poder implementar los procedimientos de este notebook:\n"
   ]
  },
  {
   "cell_type": "code",
   "execution_count": 1,
   "metadata": {},
   "outputs": [],
   "source": [
    "from numpy import loadtxt\n",
    "from keras.models import Sequential\n",
    "from keras.layers import Dense\n",
    "import pandas as pd\n",
    "from matplotlib import pyplot  as plt\n",
    "from sklearn.model_selection import train_test_split\n",
    "from keras.utils.vis_utils import plot_model\n",
    "from sklearn import metrics\n",
    "from sklearn.metrics import accuracy_score\n",
    "from sklearn.metrics import precision_score\n",
    "from sklearn.metrics import confusion_matrix"
   ]
  },
  {
   "cell_type": "markdown",
   "metadata": {},
   "source": [
    "### Carga y separación de datos \n",
    "\n",
    "En primer lugar, cargamos los datos a usar en este notebook que corresponden a una base de datos del _National Institute of Diabetes and Digestive and Kidney Diseases_. La variable de interés 'Clase' es una variable binaria toma el valor de 1 en caso de que el paciente tenga diabetes o de 0 en caso contrario. Por su parte, se tienen las siguientes variables explicativas:\n",
    "\n",
    "1. Número de veces en embarazo\n",
    "2. Concentración de glucosa a 2 horas de test de tolerancia\n",
    "3. Presión sanguínea diastólica\n",
    "4. Grosor de pliegue de triceps\n",
    "5. Insulina 2 horas\n",
    "6. Índice de masa corporal\n",
    "7. Función de pedigree de diabetes \n",
    "8. Edad"
   ]
  },
  {
   "cell_type": "code",
   "execution_count": 2,
   "metadata": {},
   "outputs": [
    {
     "data": {
      "text/html": [
       "<div>\n",
       "<style scoped>\n",
       "    .dataframe tbody tr th:only-of-type {\n",
       "        vertical-align: middle;\n",
       "    }\n",
       "\n",
       "    .dataframe tbody tr th {\n",
       "        vertical-align: top;\n",
       "    }\n",
       "\n",
       "    .dataframe thead th {\n",
       "        text-align: right;\n",
       "    }\n",
       "</style>\n",
       "<table border=\"1\" class=\"dataframe\">\n",
       "  <thead>\n",
       "    <tr style=\"text-align: right;\">\n",
       "      <th></th>\n",
       "      <th>Pregnant_times</th>\n",
       "      <th>Glucose</th>\n",
       "      <th>Bpressure</th>\n",
       "      <th>Triceps</th>\n",
       "      <th>Insulin</th>\n",
       "      <th>BMI</th>\n",
       "      <th>DiabetesFun</th>\n",
       "      <th>Age</th>\n",
       "      <th>Class</th>\n",
       "    </tr>\n",
       "  </thead>\n",
       "  <tbody>\n",
       "    <tr>\n",
       "      <th>0</th>\n",
       "      <td>6</td>\n",
       "      <td>148</td>\n",
       "      <td>72</td>\n",
       "      <td>35</td>\n",
       "      <td>0</td>\n",
       "      <td>33.6</td>\n",
       "      <td>0.627</td>\n",
       "      <td>50</td>\n",
       "      <td>1</td>\n",
       "    </tr>\n",
       "    <tr>\n",
       "      <th>1</th>\n",
       "      <td>1</td>\n",
       "      <td>85</td>\n",
       "      <td>66</td>\n",
       "      <td>29</td>\n",
       "      <td>0</td>\n",
       "      <td>26.6</td>\n",
       "      <td>0.351</td>\n",
       "      <td>31</td>\n",
       "      <td>0</td>\n",
       "    </tr>\n",
       "    <tr>\n",
       "      <th>2</th>\n",
       "      <td>8</td>\n",
       "      <td>183</td>\n",
       "      <td>64</td>\n",
       "      <td>0</td>\n",
       "      <td>0</td>\n",
       "      <td>23.3</td>\n",
       "      <td>0.672</td>\n",
       "      <td>32</td>\n",
       "      <td>1</td>\n",
       "    </tr>\n",
       "    <tr>\n",
       "      <th>3</th>\n",
       "      <td>1</td>\n",
       "      <td>89</td>\n",
       "      <td>66</td>\n",
       "      <td>23</td>\n",
       "      <td>94</td>\n",
       "      <td>28.1</td>\n",
       "      <td>0.167</td>\n",
       "      <td>21</td>\n",
       "      <td>0</td>\n",
       "    </tr>\n",
       "    <tr>\n",
       "      <th>4</th>\n",
       "      <td>0</td>\n",
       "      <td>137</td>\n",
       "      <td>40</td>\n",
       "      <td>35</td>\n",
       "      <td>168</td>\n",
       "      <td>43.1</td>\n",
       "      <td>2.288</td>\n",
       "      <td>33</td>\n",
       "      <td>1</td>\n",
       "    </tr>\n",
       "    <tr>\n",
       "      <th>...</th>\n",
       "      <td>...</td>\n",
       "      <td>...</td>\n",
       "      <td>...</td>\n",
       "      <td>...</td>\n",
       "      <td>...</td>\n",
       "      <td>...</td>\n",
       "      <td>...</td>\n",
       "      <td>...</td>\n",
       "      <td>...</td>\n",
       "    </tr>\n",
       "    <tr>\n",
       "      <th>763</th>\n",
       "      <td>10</td>\n",
       "      <td>101</td>\n",
       "      <td>76</td>\n",
       "      <td>48</td>\n",
       "      <td>180</td>\n",
       "      <td>32.9</td>\n",
       "      <td>0.171</td>\n",
       "      <td>63</td>\n",
       "      <td>0</td>\n",
       "    </tr>\n",
       "    <tr>\n",
       "      <th>764</th>\n",
       "      <td>2</td>\n",
       "      <td>122</td>\n",
       "      <td>70</td>\n",
       "      <td>27</td>\n",
       "      <td>0</td>\n",
       "      <td>36.8</td>\n",
       "      <td>0.340</td>\n",
       "      <td>27</td>\n",
       "      <td>0</td>\n",
       "    </tr>\n",
       "    <tr>\n",
       "      <th>765</th>\n",
       "      <td>5</td>\n",
       "      <td>121</td>\n",
       "      <td>72</td>\n",
       "      <td>23</td>\n",
       "      <td>112</td>\n",
       "      <td>26.2</td>\n",
       "      <td>0.245</td>\n",
       "      <td>30</td>\n",
       "      <td>0</td>\n",
       "    </tr>\n",
       "    <tr>\n",
       "      <th>766</th>\n",
       "      <td>1</td>\n",
       "      <td>126</td>\n",
       "      <td>60</td>\n",
       "      <td>0</td>\n",
       "      <td>0</td>\n",
       "      <td>30.1</td>\n",
       "      <td>0.349</td>\n",
       "      <td>47</td>\n",
       "      <td>1</td>\n",
       "    </tr>\n",
       "    <tr>\n",
       "      <th>767</th>\n",
       "      <td>1</td>\n",
       "      <td>93</td>\n",
       "      <td>70</td>\n",
       "      <td>31</td>\n",
       "      <td>0</td>\n",
       "      <td>30.4</td>\n",
       "      <td>0.315</td>\n",
       "      <td>23</td>\n",
       "      <td>0</td>\n",
       "    </tr>\n",
       "  </tbody>\n",
       "</table>\n",
       "<p>768 rows × 9 columns</p>\n",
       "</div>"
      ],
      "text/plain": [
       "     Pregnant_times  Glucose  Bpressure  Triceps  Insulin   BMI  DiabetesFun  \\\n",
       "0                 6      148         72       35        0  33.6        0.627   \n",
       "1                 1       85         66       29        0  26.6        0.351   \n",
       "2                 8      183         64        0        0  23.3        0.672   \n",
       "3                 1       89         66       23       94  28.1        0.167   \n",
       "4                 0      137         40       35      168  43.1        2.288   \n",
       "..              ...      ...        ...      ...      ...   ...          ...   \n",
       "763              10      101         76       48      180  32.9        0.171   \n",
       "764               2      122         70       27        0  36.8        0.340   \n",
       "765               5      121         72       23      112  26.2        0.245   \n",
       "766               1      126         60        0        0  30.1        0.349   \n",
       "767               1       93         70       31        0  30.4        0.315   \n",
       "\n",
       "     Age  Class  \n",
       "0     50      1  \n",
       "1     31      0  \n",
       "2     32      1  \n",
       "3     21      0  \n",
       "4     33      1  \n",
       "..   ...    ...  \n",
       "763   63      0  \n",
       "764   27      0  \n",
       "765   30      0  \n",
       "766   47      1  \n",
       "767   23      0  \n",
       "\n",
       "[768 rows x 9 columns]"
      ]
     },
     "execution_count": 2,
     "metadata": {},
     "output_type": "execute_result"
    }
   ],
   "source": [
    "# Cargar los datos\n",
    "dataset = pd.read_csv('test2.csv', sep=\",\")\n",
    "dataset"
   ]
  },
  {
   "cell_type": "markdown",
   "metadata": {},
   "source": [
    "Luego, partimos la base de datos en una sección de train y otra de test de la siguiente manera: utilizaremos el 80% de los datos para entrenamiento y el 20% restante para evaluación."
   ]
  },
  {
   "cell_type": "code",
   "execution_count": 3,
   "metadata": {},
   "outputs": [],
   "source": [
    "# Dividir muestra en set de train y test\n",
    "dataset=dataset.to_numpy()\n",
    "X_train, X_test, y_train, y_test = train_test_split(dataset[:,0:8], dataset[:,8], test_size=0.20)"
   ]
  },
  {
   "cell_type": "markdown",
   "metadata": {},
   "source": [
    "## Modelo de red neuronal\n",
    "\n",
    "### Creación de la red"
   ]
  },
  {
   "cell_type": "markdown",
   "metadata": {},
   "source": [
    "Para solucionar este problema de clasificación, emplearemos un modelo de red neuronal secuencial de tipo _feedforward_. Para ello, creamos el objeto y procedemos a añadir cada una de las capas, especificando el número de neuronas y la función de activación en cada caso."
   ]
  },
  {
   "cell_type": "code",
   "execution_count": 4,
   "metadata": {},
   "outputs": [],
   "source": [
    "model = Sequential()\n",
    "model.add(Dense(12, input_dim=8, activation='relu'))\n",
    "model.add(Dense(8, activation='relu'))\n",
    "model.add(Dense(1, activation='sigmoid'))"
   ]
  },
  {
   "cell_type": "markdown",
   "metadata": {},
   "source": [
    "### Visualización \n",
    "Podemos visualizar nuestra red con ayuda de funciones como _plot_model( )_ o _ann_viz_( ):"
   ]
  },
  {
   "cell_type": "code",
   "execution_count": 5,
   "metadata": {},
   "outputs": [
    {
     "data": {
      "image/png": "[encoded data removed]",
      "text/plain": [
       "<IPython.core.display.Image object>"
      ]
     },
     "execution_count": 5,
     "metadata": {},
     "output_type": "execute_result"
    }
   ],
   "source": [
    "from keras.utils.vis_utils import plot_model\n",
    "plot_model(model, show_shapes=True, show_layer_names=True)"
   ]
  },
  {
   "cell_type": "code",
   "execution_count": 6,
   "metadata": {},
   "outputs": [],
   "source": [
    "from ann_visualizer.visualize import ann_viz\n",
    "# Generar un archivo con la visualización de la red neuronal (se aprecian los nodos en cada capa).\n",
    "# Este archivo se descarga en el directorio en el que se está trabajando este notebook y puede visualizarse en pdf\n",
    "ann_viz(model, title=\"Neural Network\", filename=\"NN_S2LSC1.gv\") "
   ]
  },
  {
   "cell_type": "markdown",
   "metadata": {},
   "source": [
    "### Compilación del modelo \n",
    "\n",
    "Con la función [_compile( )_](https://www.tensorflow.org/api_docs/python/tf/keras/Sequential), configuramos nuestra red para entrenarla. Definimos entonces la [función de pérdida](https://www.tensorflow.org/api_docs/python/tf/keras/losses), el [optimizador](https://www.tensorflow.org/api_docs/python/tf/keras/optimizers) y las [métricas](https://www.tensorflow.org/api_docs/python/tf/keras/metrics) a evaluar del modelo durante el entrenamiento y prueba. Para este caso, se seleccionó la función de entropía cruzada, el optimizador Adam y el _Accuracy_ como métrica."
   ]
  },
  {
   "cell_type": "code",
   "execution_count": 7,
   "metadata": {},
   "outputs": [],
   "source": [
    "model.compile(loss='binary_crossentropy', optimizer='adam', metrics=['accuracy'])"
   ]
  },
  {
   "cell_type": "markdown",
   "metadata": {},
   "source": [
    "### Entrenamiento del modelo \n",
    "Entrenamos nuestra red neuronal con los datos de entrenamiento. Podemos evidenciar el valor de la función de pérdida y el accuracy del modelo para cada epoch."
   ]
  },
  {
   "cell_type": "code",
   "execution_count": 8,
   "metadata": {},
   "outputs": [
    {
     "name": "stdout",
     "output_type": "stream",
     "text": [
      "Epoch 1/150\n",
      "62/62 [==============================] - 1s 2ms/step - loss: 16.8866 - accuracy: 0.3502\n",
      "Epoch 2/150\n",
      "62/62 [==============================] - 0s 3ms/step - loss: 1.5768 - accuracy: 0.5749\n",
      "Epoch 3/150\n",
      "62/62 [==============================] - 0s 2ms/step - loss: 0.8152 - accuracy: 0.6173\n",
      "Epoch 4/150\n",
      "62/62 [==============================] - 0s 3ms/step - loss: 0.7461 - accuracy: 0.6368\n",
      "Epoch 5/150\n",
      "62/62 [==============================] - 0s 2ms/step - loss: 0.7158 - accuracy: 0.6401\n",
      "Epoch 6/150\n",
      "62/62 [==============================] - 0s 2ms/step - loss: 0.7044 - accuracy: 0.6384\n",
      "Epoch 7/150\n",
      "62/62 [==============================] - 0s 2ms/step - loss: 0.6876 - accuracy: 0.6792\n",
      "Epoch 8/150\n",
      "62/62 [==============================] - 0s 2ms/step - loss: 0.6723 - accuracy: 0.6726\n",
      "Epoch 9/150\n",
      "62/62 [==============================] - 0s 2ms/step - loss: 0.6705 - accuracy: 0.6564\n",
      "Epoch 10/150\n",
      "62/62 [==============================] - 0s 2ms/step - loss: 0.6913 - accuracy: 0.6401\n",
      "Epoch 11/150\n",
      "62/62 [==============================] - 0s 2ms/step - loss: 0.6526 - accuracy: 0.6596\n",
      "Epoch 12/150\n",
      "62/62 [==============================] - 0s 2ms/step - loss: 0.6466 - accuracy: 0.6515\n",
      "Epoch 13/150\n",
      "62/62 [==============================] - 0s 2ms/step - loss: 0.6357 - accuracy: 0.6678\n",
      "Epoch 14/150\n",
      "62/62 [==============================] - 0s 2ms/step - loss: 0.6373 - accuracy: 0.6645\n",
      "Epoch 15/150\n",
      "62/62 [==============================] - 0s 2ms/step - loss: 0.6631 - accuracy: 0.6661\n",
      "Epoch 16/150\n",
      "62/62 [==============================] - 0s 2ms/step - loss: 0.6451 - accuracy: 0.6710\n",
      "Epoch 17/150\n",
      "62/62 [==============================] - 0s 2ms/step - loss: 0.6245 - accuracy: 0.6840\n",
      "Epoch 18/150\n",
      "62/62 [==============================] - 0s 2ms/step - loss: 0.6292 - accuracy: 0.6759\n",
      "Epoch 19/150\n",
      "62/62 [==============================] - 0s 2ms/step - loss: 0.6456 - accuracy: 0.6645\n",
      "Epoch 20/150\n",
      "62/62 [==============================] - 0s 2ms/step - loss: 0.6134 - accuracy: 0.6808\n",
      "Epoch 21/150\n",
      "62/62 [==============================] - 0s 2ms/step - loss: 0.6139 - accuracy: 0.6743\n",
      "Epoch 22/150\n",
      "62/62 [==============================] - 0s 3ms/step - loss: 0.6317 - accuracy: 0.6726\n",
      "Epoch 23/150\n",
      "62/62 [==============================] - 0s 2ms/step - loss: 0.6083 - accuracy: 0.6792\n",
      "Epoch 24/150\n",
      "62/62 [==============================] - 0s 2ms/step - loss: 0.6068 - accuracy: 0.6759\n",
      "Epoch 25/150\n",
      "62/62 [==============================] - 0s 2ms/step - loss: 0.6155 - accuracy: 0.6792\n",
      "Epoch 26/150\n",
      "62/62 [==============================] - 0s 2ms/step - loss: 0.6100 - accuracy: 0.6987\n",
      "Epoch 27/150\n",
      "62/62 [==============================] - 0s 2ms/step - loss: 0.5954 - accuracy: 0.6840\n",
      "Epoch 28/150\n",
      "62/62 [==============================] - 0s 2ms/step - loss: 0.5912 - accuracy: 0.7003\n",
      "Epoch 29/150\n",
      "62/62 [==============================] - 0s 2ms/step - loss: 0.5894 - accuracy: 0.6906\n",
      "Epoch 30/150\n",
      "62/62 [==============================] - 0s 2ms/step - loss: 0.6148 - accuracy: 0.6808\n",
      "Epoch 31/150\n",
      "62/62 [==============================] - 0s 2ms/step - loss: 0.5877 - accuracy: 0.7036\n",
      "Epoch 32/150\n",
      "62/62 [==============================] - 0s 2ms/step - loss: 0.5894 - accuracy: 0.7020\n",
      "Epoch 33/150\n",
      "62/62 [==============================] - 0s 2ms/step - loss: 0.5817 - accuracy: 0.7085\n",
      "Epoch 34/150\n",
      "62/62 [==============================] - 0s 3ms/step - loss: 0.5762 - accuracy: 0.7248\n",
      "Epoch 35/150\n",
      "62/62 [==============================] - 0s 2ms/step - loss: 0.5855 - accuracy: 0.7199\n",
      "Epoch 36/150\n",
      "62/62 [==============================] - 0s 2ms/step - loss: 0.5962 - accuracy: 0.7117\n",
      "Epoch 37/150\n",
      "62/62 [==============================] - 0s 2ms/step - loss: 0.6033 - accuracy: 0.6857\n",
      "Epoch 38/150\n",
      "62/62 [==============================] - 0s 2ms/step - loss: 0.5872 - accuracy: 0.6840\n",
      "Epoch 39/150\n",
      "62/62 [==============================] - 0s 2ms/step - loss: 0.5726 - accuracy: 0.7134\n",
      "Epoch 40/150\n",
      "62/62 [==============================] - 0s 2ms/step - loss: 0.5784 - accuracy: 0.7231\n",
      "Epoch 41/150\n",
      "62/62 [==============================] - 0s 2ms/step - loss: 0.5747 - accuracy: 0.7134\n",
      "Epoch 42/150\n",
      "62/62 [==============================] - 0s 2ms/step - loss: 0.5716 - accuracy: 0.7199\n",
      "Epoch 43/150\n",
      "62/62 [==============================] - 0s 2ms/step - loss: 0.5735 - accuracy: 0.7134\n",
      "Epoch 44/150\n",
      "62/62 [==============================] - 0s 2ms/step - loss: 0.5758 - accuracy: 0.7166\n",
      "Epoch 45/150\n",
      "62/62 [==============================] - 0s 2ms/step - loss: 0.5722 - accuracy: 0.7020\n",
      "Epoch 46/150\n",
      "62/62 [==============================] - 0s 2ms/step - loss: 0.5703 - accuracy: 0.6938\n",
      "Epoch 47/150\n",
      "62/62 [==============================] - 0s 2ms/step - loss: 0.6022 - accuracy: 0.7036\n",
      "Epoch 48/150\n",
      "62/62 [==============================] - 0s 2ms/step - loss: 0.5652 - accuracy: 0.7231\n",
      "Epoch 49/150\n",
      "62/62 [==============================] - 0s 2ms/step - loss: 0.5695 - accuracy: 0.7085\n",
      "Epoch 50/150\n",
      "62/62 [==============================] - 0s 2ms/step - loss: 0.5740 - accuracy: 0.7199\n",
      "Epoch 51/150\n",
      "62/62 [==============================] - 0s 2ms/step - loss: 0.5706 - accuracy: 0.7036\n",
      "Epoch 52/150\n",
      "62/62 [==============================] - 0s 2ms/step - loss: 0.5580 - accuracy: 0.7362\n",
      "Epoch 53/150\n",
      "62/62 [==============================] - 0s 3ms/step - loss: 0.5627 - accuracy: 0.7362\n",
      "Epoch 54/150\n",
      "62/62 [==============================] - 0s 2ms/step - loss: 0.5572 - accuracy: 0.7280\n",
      "Epoch 55/150\n",
      "62/62 [==============================] - 0s 2ms/step - loss: 0.5754 - accuracy: 0.6906\n",
      "Epoch 56/150\n",
      "62/62 [==============================] - 0s 2ms/step - loss: 0.5559 - accuracy: 0.7166\n",
      "Epoch 57/150\n",
      "62/62 [==============================] - 0s 2ms/step - loss: 0.5556 - accuracy: 0.7264\n",
      "Epoch 58/150\n",
      "62/62 [==============================] - 0s 2ms/step - loss: 0.5511 - accuracy: 0.7166\n",
      "Epoch 59/150\n",
      "62/62 [==============================] - 0s 2ms/step - loss: 0.5651 - accuracy: 0.7280\n",
      "Epoch 60/150\n",
      "62/62 [==============================] - 0s 2ms/step - loss: 0.5674 - accuracy: 0.7117\n",
      "Epoch 61/150\n",
      "62/62 [==============================] - 0s 2ms/step - loss: 0.5667 - accuracy: 0.7264\n",
      "Epoch 62/150\n",
      "62/62 [==============================] - 0s 2ms/step - loss: 0.5574 - accuracy: 0.7345\n",
      "Epoch 63/150\n",
      "62/62 [==============================] - 0s 2ms/step - loss: 0.5513 - accuracy: 0.7378\n",
      "Epoch 64/150\n",
      "62/62 [==============================] - 0s 3ms/step - loss: 0.5451 - accuracy: 0.7345\n",
      "Epoch 65/150\n",
      "62/62 [==============================] - 0s 3ms/step - loss: 0.5592 - accuracy: 0.7231\n",
      "Epoch 66/150\n",
      "62/62 [==============================] - 0s 2ms/step - loss: 0.5465 - accuracy: 0.7296\n",
      "Epoch 67/150\n",
      "62/62 [==============================] - 0s 2ms/step - loss: 0.5585 - accuracy: 0.7199\n",
      "Epoch 68/150\n",
      "62/62 [==============================] - 0s 2ms/step - loss: 0.5499 - accuracy: 0.7264\n",
      "Epoch 69/150\n",
      "62/62 [==============================] - 0s 2ms/step - loss: 0.5373 - accuracy: 0.7296\n",
      "Epoch 70/150\n",
      "62/62 [==============================] - 0s 2ms/step - loss: 0.5918 - accuracy: 0.6987\n",
      "Epoch 71/150\n",
      "62/62 [==============================] - 0s 3ms/step - loss: 0.5343 - accuracy: 0.7476\n",
      "Epoch 72/150\n",
      "62/62 [==============================] - 0s 2ms/step - loss: 0.5348 - accuracy: 0.7427\n",
      "Epoch 73/150\n",
      "62/62 [==============================] - 0s 2ms/step - loss: 0.5531 - accuracy: 0.7117\n",
      "Epoch 74/150\n",
      "62/62 [==============================] - 0s 2ms/step - loss: 0.5680 - accuracy: 0.7182\n",
      "Epoch 75/150\n",
      "62/62 [==============================] - 0s 2ms/step - loss: 0.5357 - accuracy: 0.7362\n",
      "Epoch 76/150\n",
      "62/62 [==============================] - 0s 2ms/step - loss: 0.5397 - accuracy: 0.7313\n",
      "Epoch 77/150\n",
      "62/62 [==============================] - 0s 2ms/step - loss: 0.5441 - accuracy: 0.7296\n",
      "Epoch 78/150\n",
      "62/62 [==============================] - 0s 2ms/step - loss: 0.5469 - accuracy: 0.7313\n",
      "Epoch 79/150\n",
      "62/62 [==============================] - 0s 2ms/step - loss: 0.5305 - accuracy: 0.7378\n",
      "Epoch 80/150\n",
      "62/62 [==============================] - 0s 2ms/step - loss: 0.5306 - accuracy: 0.7476\n",
      "Epoch 81/150\n",
      "62/62 [==============================] - 0s 2ms/step - loss: 0.5238 - accuracy: 0.7590\n",
      "Epoch 82/150\n",
      "62/62 [==============================] - 0s 2ms/step - loss: 0.5246 - accuracy: 0.7410\n",
      "Epoch 83/150\n"
     ]
    },
    {
     "name": "stdout",
     "output_type": "stream",
     "text": [
      "62/62 [==============================] - 0s 2ms/step - loss: 0.5344 - accuracy: 0.7427\n",
      "Epoch 84/150\n",
      "62/62 [==============================] - 0s 2ms/step - loss: 0.5334 - accuracy: 0.7427\n",
      "Epoch 85/150\n",
      "62/62 [==============================] - 0s 3ms/step - loss: 0.5385 - accuracy: 0.7427\n",
      "Epoch 86/150\n",
      "62/62 [==============================] - 0s 2ms/step - loss: 0.5176 - accuracy: 0.7622\n",
      "Epoch 87/150\n",
      "62/62 [==============================] - 0s 2ms/step - loss: 0.5222 - accuracy: 0.7524\n",
      "Epoch 88/150\n",
      "62/62 [==============================] - 0s 2ms/step - loss: 0.5203 - accuracy: 0.7590\n",
      "Epoch 89/150\n",
      "62/62 [==============================] - 0s 2ms/step - loss: 0.5437 - accuracy: 0.7378\n",
      "Epoch 90/150\n",
      "62/62 [==============================] - 0s 3ms/step - loss: 0.5197 - accuracy: 0.7476\n",
      "Epoch 91/150\n",
      "62/62 [==============================] - 0s 2ms/step - loss: 0.5220 - accuracy: 0.7362\n",
      "Epoch 92/150\n",
      "62/62 [==============================] - 0s 2ms/step - loss: 0.5192 - accuracy: 0.7590\n",
      "Epoch 93/150\n",
      "62/62 [==============================] - 0s 2ms/step - loss: 0.5056 - accuracy: 0.7687\n",
      "Epoch 94/150\n",
      "62/62 [==============================] - 0s 2ms/step - loss: 0.5351 - accuracy: 0.7362\n",
      "Epoch 95/150\n",
      "62/62 [==============================] - 0s 2ms/step - loss: 0.5370 - accuracy: 0.7345\n",
      "Epoch 96/150\n",
      "62/62 [==============================] - 0s 2ms/step - loss: 0.5231 - accuracy: 0.7622\n",
      "Epoch 97/150\n",
      "62/62 [==============================] - 0s 2ms/step - loss: 0.5185 - accuracy: 0.7476\n",
      "Epoch 98/150\n",
      "62/62 [==============================] - 0s 2ms/step - loss: 0.5104 - accuracy: 0.7606\n",
      "Epoch 99/150\n",
      "62/62 [==============================] - 0s 2ms/step - loss: 0.5086 - accuracy: 0.7638\n",
      "Epoch 100/150\n",
      "62/62 [==============================] - 0s 2ms/step - loss: 0.5136 - accuracy: 0.7785\n",
      "Epoch 101/150\n",
      "62/62 [==============================] - 0s 2ms/step - loss: 0.5093 - accuracy: 0.7704\n",
      "Epoch 102/150\n",
      "62/62 [==============================] - 0s 2ms/step - loss: 0.5384 - accuracy: 0.7476\n",
      "Epoch 103/150\n",
      "62/62 [==============================] - 0s 2ms/step - loss: 0.5234 - accuracy: 0.7492\n",
      "Epoch 104/150\n",
      "62/62 [==============================] - 0s 2ms/step - loss: 0.5055 - accuracy: 0.7638\n",
      "Epoch 105/150\n",
      "62/62 [==============================] - 0s 2ms/step - loss: 0.5114 - accuracy: 0.7541\n",
      "Epoch 106/150\n",
      "62/62 [==============================] - 0s 2ms/step - loss: 0.5338 - accuracy: 0.7541\n",
      "Epoch 107/150\n",
      "62/62 [==============================] - 0s 2ms/step - loss: 0.5300 - accuracy: 0.7459\n",
      "Epoch 108/150\n",
      "62/62 [==============================] - 0s 2ms/step - loss: 0.5104 - accuracy: 0.7590\n",
      "Epoch 109/150\n",
      "62/62 [==============================] - 0s 2ms/step - loss: 0.5248 - accuracy: 0.7476\n",
      "Epoch 110/150\n",
      "62/62 [==============================] - 0s 2ms/step - loss: 0.5034 - accuracy: 0.7671\n",
      "Epoch 111/150\n",
      "62/62 [==============================] - 0s 2ms/step - loss: 0.5259 - accuracy: 0.7508\n",
      "Epoch 112/150\n",
      "62/62 [==============================] - 0s 2ms/step - loss: 0.5107 - accuracy: 0.7541\n",
      "Epoch 113/150\n",
      "62/62 [==============================] - 0s 2ms/step - loss: 0.5117 - accuracy: 0.7655\n",
      "Epoch 114/150\n",
      "62/62 [==============================] - 0s 2ms/step - loss: 0.5149 - accuracy: 0.7606\n",
      "Epoch 115/150\n",
      "62/62 [==============================] - 0s 2ms/step - loss: 0.5153 - accuracy: 0.7606\n",
      "Epoch 116/150\n",
      "62/62 [==============================] - 0s 2ms/step - loss: 0.5020 - accuracy: 0.7704\n",
      "Epoch 117/150\n",
      "62/62 [==============================] - 0s 2ms/step - loss: 0.5227 - accuracy: 0.7492\n",
      "Epoch 118/150\n",
      "62/62 [==============================] - 0s 2ms/step - loss: 0.5072 - accuracy: 0.7573\n",
      "Epoch 119/150\n",
      "62/62 [==============================] - 0s 2ms/step - loss: 0.5021 - accuracy: 0.7785\n",
      "Epoch 120/150\n",
      "62/62 [==============================] - 0s 5ms/step - loss: 0.5135 - accuracy: 0.7785\n",
      "Epoch 121/150\n",
      "62/62 [==============================] - 0s 3ms/step - loss: 0.5037 - accuracy: 0.7704\n",
      "Epoch 122/150\n",
      "62/62 [==============================] - 0s 2ms/step - loss: 0.4978 - accuracy: 0.7769\n",
      "Epoch 123/150\n",
      "62/62 [==============================] - 0s 2ms/step - loss: 0.5041 - accuracy: 0.7492\n",
      "Epoch 124/150\n",
      "62/62 [==============================] - 0s 2ms/step - loss: 0.5073 - accuracy: 0.7671\n",
      "Epoch 125/150\n",
      "62/62 [==============================] - 0s 2ms/step - loss: 0.4954 - accuracy: 0.7687\n",
      "Epoch 126/150\n",
      "62/62 [==============================] - 0s 2ms/step - loss: 0.4899 - accuracy: 0.7785\n",
      "Epoch 127/150\n",
      "62/62 [==============================] - 0s 2ms/step - loss: 0.4963 - accuracy: 0.7704\n",
      "Epoch 128/150\n",
      "62/62 [==============================] - 0s 2ms/step - loss: 0.4953 - accuracy: 0.7687\n",
      "Epoch 129/150\n",
      "62/62 [==============================] - 0s 3ms/step - loss: 0.4965 - accuracy: 0.7785\n",
      "Epoch 130/150\n",
      "62/62 [==============================] - 0s 3ms/step - loss: 0.4967 - accuracy: 0.7590\n",
      "Epoch 131/150\n",
      "62/62 [==============================] - 0s 2ms/step - loss: 0.5085 - accuracy: 0.7590\n",
      "Epoch 132/150\n",
      "62/62 [==============================] - 0s 2ms/step - loss: 0.5005 - accuracy: 0.7850\n",
      "Epoch 133/150\n",
      "62/62 [==============================] - 0s 2ms/step - loss: 0.4912 - accuracy: 0.7818\n",
      "Epoch 134/150\n",
      "62/62 [==============================] - 0s 3ms/step - loss: 0.4876 - accuracy: 0.7834\n",
      "Epoch 135/150\n",
      "62/62 [==============================] - 0s 2ms/step - loss: 0.5018 - accuracy: 0.7622\n",
      "Epoch 136/150\n",
      "62/62 [==============================] - 0s 2ms/step - loss: 0.4859 - accuracy: 0.7752\n",
      "Epoch 137/150\n",
      "62/62 [==============================] - 0s 2ms/step - loss: 0.4874 - accuracy: 0.7655\n",
      "Epoch 138/150\n",
      "62/62 [==============================] - 0s 2ms/step - loss: 0.4946 - accuracy: 0.7606\n",
      "Epoch 139/150\n",
      "62/62 [==============================] - 0s 2ms/step - loss: 0.4952 - accuracy: 0.7638\n",
      "Epoch 140/150\n",
      "62/62 [==============================] - 0s 2ms/step - loss: 0.5016 - accuracy: 0.7638\n",
      "Epoch 141/150\n",
      "62/62 [==============================] - 0s 2ms/step - loss: 0.4824 - accuracy: 0.7915\n",
      "Epoch 142/150\n",
      "62/62 [==============================] - 0s 2ms/step - loss: 0.4934 - accuracy: 0.7801\n",
      "Epoch 143/150\n",
      "62/62 [==============================] - 0s 2ms/step - loss: 0.5145 - accuracy: 0.7524\n",
      "Epoch 144/150\n",
      "62/62 [==============================] - 0s 2ms/step - loss: 0.4969 - accuracy: 0.7736\n",
      "Epoch 145/150\n",
      "62/62 [==============================] - 0s 2ms/step - loss: 0.4831 - accuracy: 0.7818\n",
      "Epoch 146/150\n",
      "62/62 [==============================] - 0s 2ms/step - loss: 0.4908 - accuracy: 0.7704\n",
      "Epoch 147/150\n",
      "62/62 [==============================] - 0s 2ms/step - loss: 0.4809 - accuracy: 0.7834\n",
      "Epoch 148/150\n",
      "62/62 [==============================] - 0s 2ms/step - loss: 0.4912 - accuracy: 0.7801\n",
      "Epoch 149/150\n",
      "62/62 [==============================] - 0s 2ms/step - loss: 0.5030 - accuracy: 0.7671\n",
      "Epoch 150/150\n",
      "62/62 [==============================] - 0s 2ms/step - loss: 0.4900 - accuracy: 0.7720\n"
     ]
    }
   ],
   "source": [
    "history=model.fit(X_train, y_train, epochs=150, batch_size=10)"
   ]
  },
  {
   "cell_type": "markdown",
   "metadata": {},
   "source": [
    "La anterior información también puede ser presentada gráficamente:"
   ]
  },
  {
   "cell_type": "code",
   "execution_count": 9,
   "metadata": {},
   "outputs": [
    {
     "data": {
      "image/png": "[encoded data removed]",
      "text/plain": [
       "<Figure size 432x288 with 1 Axes>"
      ]
     },
     "metadata": {
      "needs_background": "light"
     },
     "output_type": "display_data"
    },
    {
     "data": {
      "image/png": "[encoded data removed]",
      "text/plain": [
       "<Figure size 432x288 with 1 Axes>"
      ]
     },
     "metadata": {
      "needs_background": "light"
     },
     "output_type": "display_data"
    }
   ],
   "source": [
    "# Graficar accuracy del modelo\n",
    "plt.plot(history.history['accuracy'])\n",
    "plt.title('Accuracy del modelo')\n",
    "plt.ylabel('Accuracy')\n",
    "plt.xlabel('Epoch')\n",
    "plt.show()\n",
    "# Graficar la función de pérdida evaluada\n",
    "plt.plot(history.history['loss'])\n",
    "plt.title('Función de pérdida del modelo')\n",
    "plt.ylabel('Loss')\n",
    "plt.xlabel('Epoch')\n",
    "plt.show()"
   ]
  },
  {
   "cell_type": "markdown",
   "metadata": {},
   "source": [
    "Calculamos el _accuracy_ del modelo para el set de train:"
   ]
  },
  {
   "cell_type": "code",
   "execution_count": 10,
   "metadata": {},
   "outputs": [
    {
     "name": "stdout",
     "output_type": "stream",
     "text": [
      "20/20 [==============================] - 0s 2ms/step - loss: 0.4747 - accuracy: 0.7915\n",
      "Accuracy: 79.15\n"
     ]
    }
   ],
   "source": [
    "_, accuracy = model.evaluate(X_train, y_train)\n",
    "print('Accuracy: %.2f' % (accuracy*100))"
   ]
  },
  {
   "cell_type": "markdown",
   "metadata": {},
   "source": [
    "### Evaluación del modelo\n",
    "Podemos evaluar nuestro modelo con ayuda de la función _evaluate( )_ que retorna la función de pérdida y la métrica seleccionada (el _accuracy_ en este caso) dados los datos de prueba:"
   ]
  },
  {
   "cell_type": "code",
   "execution_count": 11,
   "metadata": {},
   "outputs": [
    {
     "name": "stdout",
     "output_type": "stream",
     "text": [
      "5/5 [==============================] - 0s 2ms/step - loss: 0.5660 - accuracy: 0.7338\n"
     ]
    }
   ],
   "source": [
    "test_loss, test_acc = model.evaluate(X_test, y_test)"
   ]
  },
  {
   "cell_type": "markdown",
   "metadata": {},
   "source": [
    "Finalmente, podemos hacer predicciones sobre los datos de test utilizando el modelo y a partir de ello calcular otras métricas relevantes:"
   ]
  },
  {
   "cell_type": "code",
   "execution_count": 12,
   "metadata": {},
   "outputs": [
    {
     "name": "stdout",
     "output_type": "stream",
     "text": [
      "El accuracy del modelo es: 0.7337662337662337\n",
      "La precisión del modelo es: 0.6363636363636364\n",
      "La matriz de confusión es: [[85 16]\n",
      " [25 28]]\n",
      "El AUC del modelo es: 0.737903979077153\n"
     ]
    },
    {
     "data": {
      "image/png": "[encoded data removed]",
      "text/plain": [
       "<Figure size 432x288 with 1 Axes>"
      ]
     },
     "metadata": {
      "needs_background": "light"
     },
     "output_type": "display_data"
    }
   ],
   "source": [
    "# Hallar probabilidades y clasificación que predice el modelo con threshold de 0.5\n",
    "predicciones = model.predict(X_test)\n",
    "y_pred = [round(x[0]) for x in predicciones]\n",
    "# Imprimir métricas de desempeño\n",
    "print(\"El accuracy del modelo es: \"+str(accuracy_score(y_true=y_test, y_pred=y_pred)))\n",
    "print(\"La precisión del modelo es: \"+str(precision_score(y_true=y_test, y_pred=y_pred)))\n",
    "print(\"La matriz de confusión es: \"+str(confusion_matrix(y_true=y_test, y_pred=y_pred)))\n",
    "fpr, tpr, thresholds = metrics.roc_curve(y_test, predicciones, pos_label=1)\n",
    "AUCRegLog=metrics.auc(fpr, tpr)\n",
    "print(\"El AUC del modelo es: \"+str(AUCRegLog))\n",
    "# Graficar curva ROC\n",
    "plt.title('Receiver Operating Characteristic')\n",
    "plt.plot(fpr, tpr, 'b', label = 'AUC = %0.2f' % AUCRegLog)\n",
    "plt.legend(loc = 'lower right')\n",
    "plt.plot([0, 1], [0, 1],'r--')\n",
    "plt.xlim([-0.01, 1])\n",
    "plt.ylim([0, 1.05])\n",
    "plt.ylabel('True Positive Rate')\n",
    "plt.xlabel('False Positive Rate')\n",
    "plt.show()"
   ]
  }
 ],
 "metadata": {
  "kernelspec": {
   "display_name": "Python 3",
   "language": "python",
   "name": "python3"
  },
  "language_info": {
   "codemirror_mode": {
    "name": "ipython",
    "version": 3
   },
   "file_extension": ".py",
   "mimetype": "text/x-python",
   "name": "python",
   "nbconvert_exporter": "python",
   "pygments_lexer": "ipython3",
   "version": "3.8.8"
  }
 },
 "nbformat": 4,
 "nbformat_minor": 4
}
